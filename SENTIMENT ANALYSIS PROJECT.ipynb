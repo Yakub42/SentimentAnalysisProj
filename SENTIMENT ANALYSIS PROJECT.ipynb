{
 "cells": [
  {
   "cell_type": "code",
   "execution_count": 1,
   "id": "288b2285",
   "metadata": {},
   "outputs": [],
   "source": [
    "import pandas as pd\n",
    "import numpy as np\n",
    "from matplotlib import pyplot as plt\n",
    "import seaborn as sns"
   ]
  },
  {
   "cell_type": "code",
   "execution_count": 2,
   "id": "77f981bd",
   "metadata": {
    "scrolled": false
   },
   "outputs": [
    {
     "name": "stdout",
     "output_type": "stream",
     "text": [
      "(1454711, 5)\n"
     ]
    },
    {
     "data": {
      "text/html": [
       "<div>\n",
       "<style scoped>\n",
       "    .dataframe tbody tr th:only-of-type {\n",
       "        vertical-align: middle;\n",
       "    }\n",
       "\n",
       "    .dataframe tbody tr th {\n",
       "        vertical-align: top;\n",
       "    }\n",
       "\n",
       "    .dataframe thead th {\n",
       "        text-align: right;\n",
       "    }\n",
       "</style>\n",
       "<table border=\"1\" class=\"dataframe\">\n",
       "  <thead>\n",
       "    <tr style=\"text-align: right;\">\n",
       "      <th></th>\n",
       "      <th>reviews</th>\n",
       "      <th>reviewers</th>\n",
       "      <th>date_reviews</th>\n",
       "      <th>rating</th>\n",
       "      <th>course_id</th>\n",
       "    </tr>\n",
       "  </thead>\n",
       "  <tbody>\n",
       "    <tr>\n",
       "      <th>0</th>\n",
       "      <td>Pretty dry, but I was able to pass with just t...</td>\n",
       "      <td>By Robert S</td>\n",
       "      <td>Feb 12, 2020</td>\n",
       "      <td>4</td>\n",
       "      <td>google-cbrs-cpi-training</td>\n",
       "    </tr>\n",
       "    <tr>\n",
       "      <th>1</th>\n",
       "      <td>would be a better experience if the video and ...</td>\n",
       "      <td>By Gabriel E R</td>\n",
       "      <td>Sep 28, 2020</td>\n",
       "      <td>4</td>\n",
       "      <td>google-cbrs-cpi-training</td>\n",
       "    </tr>\n",
       "    <tr>\n",
       "      <th>2</th>\n",
       "      <td>Information was perfect! The program itself wa...</td>\n",
       "      <td>By Jacob D</td>\n",
       "      <td>Apr 08, 2020</td>\n",
       "      <td>4</td>\n",
       "      <td>google-cbrs-cpi-training</td>\n",
       "    </tr>\n",
       "    <tr>\n",
       "      <th>3</th>\n",
       "      <td>A few grammatical mistakes on test made me do ...</td>\n",
       "      <td>By Dale B</td>\n",
       "      <td>Feb 24, 2020</td>\n",
       "      <td>4</td>\n",
       "      <td>google-cbrs-cpi-training</td>\n",
       "    </tr>\n",
       "    <tr>\n",
       "      <th>4</th>\n",
       "      <td>Excellent course and the training provided was...</td>\n",
       "      <td>By Sean G</td>\n",
       "      <td>Jun 18, 2020</td>\n",
       "      <td>4</td>\n",
       "      <td>google-cbrs-cpi-training</td>\n",
       "    </tr>\n",
       "  </tbody>\n",
       "</table>\n",
       "</div>"
      ],
      "text/plain": [
       "                                             reviews       reviewers  \\\n",
       "0  Pretty dry, but I was able to pass with just t...     By Robert S   \n",
       "1  would be a better experience if the video and ...  By Gabriel E R   \n",
       "2  Information was perfect! The program itself wa...      By Jacob D   \n",
       "3  A few grammatical mistakes on test made me do ...       By Dale B   \n",
       "4  Excellent course and the training provided was...       By Sean G   \n",
       "\n",
       "   date_reviews  rating                 course_id  \n",
       "0  Feb 12, 2020       4  google-cbrs-cpi-training  \n",
       "1  Sep 28, 2020       4  google-cbrs-cpi-training  \n",
       "2  Apr 08, 2020       4  google-cbrs-cpi-training  \n",
       "3  Feb 24, 2020       4  google-cbrs-cpi-training  \n",
       "4  Jun 18, 2020       4  google-cbrs-cpi-training  "
      ]
     },
     "execution_count": 2,
     "metadata": {},
     "output_type": "execute_result"
    }
   ],
   "source": [
    "coursera_reviews = pd.read_csv('NLP Datasets/Coursera_reviews.csv.zip', compression = 'zip')\n",
    "print(coursera_reviews.shape)\n",
    "coursera_reviews.head()"
   ]
  },
  {
   "cell_type": "code",
   "execution_count": 3,
   "id": "59c9d7b5",
   "metadata": {
    "scrolled": true
   },
   "outputs": [
    {
     "data": {
      "text/html": [
       "<div>\n",
       "<style scoped>\n",
       "    .dataframe tbody tr th:only-of-type {\n",
       "        vertical-align: middle;\n",
       "    }\n",
       "\n",
       "    .dataframe tbody tr th {\n",
       "        vertical-align: top;\n",
       "    }\n",
       "\n",
       "    .dataframe thead th {\n",
       "        text-align: right;\n",
       "    }\n",
       "</style>\n",
       "<table border=\"1\" class=\"dataframe\">\n",
       "  <thead>\n",
       "    <tr style=\"text-align: right;\">\n",
       "      <th></th>\n",
       "      <th>reviews</th>\n",
       "      <th>reviewers</th>\n",
       "      <th>date_reviews</th>\n",
       "      <th>rating</th>\n",
       "      <th>course_id</th>\n",
       "    </tr>\n",
       "  </thead>\n",
       "  <tbody>\n",
       "    <tr>\n",
       "      <th>818713</th>\n",
       "      <td>It was really great experience.</td>\n",
       "      <td>By \\t M N H</td>\n",
       "      <td>Sep 02, 2020</td>\n",
       "      <td>5</td>\n",
       "      <td>grammar-punctuation</td>\n",
       "    </tr>\n",
       "    <tr>\n",
       "      <th>818738</th>\n",
       "      <td>It was really great experience.</td>\n",
       "      <td>By \\t M N H</td>\n",
       "      <td>Sep 02, 2020</td>\n",
       "      <td>5</td>\n",
       "      <td>grammar-punctuation</td>\n",
       "    </tr>\n",
       "    <tr>\n",
       "      <th>301798</th>\n",
       "      <td>This course is amazing. Python is so easy lang...</td>\n",
       "      <td>By \\t M R I</td>\n",
       "      <td>Sep 15, 2020</td>\n",
       "      <td>5</td>\n",
       "      <td>python-data</td>\n",
       "    </tr>\n",
       "    <tr>\n",
       "      <th>301773</th>\n",
       "      <td>This course is amazing. Python is so easy lang...</td>\n",
       "      <td>By \\t M R I</td>\n",
       "      <td>Sep 15, 2020</td>\n",
       "      <td>5</td>\n",
       "      <td>python-data</td>\n",
       "    </tr>\n",
       "    <tr>\n",
       "      <th>1127812</th>\n",
       "      <td>First of all, I am very happy to finish this c...</td>\n",
       "      <td>By \\t M S R</td>\n",
       "      <td>Jul 16, 2020</td>\n",
       "      <td>5</td>\n",
       "      <td>guitar</td>\n",
       "    </tr>\n",
       "    <tr>\n",
       "      <th>...</th>\n",
       "      <td>...</td>\n",
       "      <td>...</td>\n",
       "      <td>...</td>\n",
       "      <td>...</td>\n",
       "      <td>...</td>\n",
       "    </tr>\n",
       "    <tr>\n",
       "      <th>1104702</th>\n",
       "      <td>It was fun and useful\\nTHANK YOU</td>\n",
       "      <td>By �� � � �</td>\n",
       "      <td>Jun 17, 2020</td>\n",
       "      <td>5</td>\n",
       "      <td>how-things-work</td>\n",
       "    </tr>\n",
       "    <tr>\n",
       "      <th>1326649</th>\n",
       "      <td>I loved the way of learning and how this cours...</td>\n",
       "      <td>By ���� � �</td>\n",
       "      <td>Jan 19, 2020</td>\n",
       "      <td>5</td>\n",
       "      <td>strategic-management</td>\n",
       "    </tr>\n",
       "    <tr>\n",
       "      <th>1326624</th>\n",
       "      <td>I loved the way of learning and how this cours...</td>\n",
       "      <td>By ���� � �</td>\n",
       "      <td>Jan 19, 2020</td>\n",
       "      <td>5</td>\n",
       "      <td>strategic-management</td>\n",
       "    </tr>\n",
       "    <tr>\n",
       "      <th>264447</th>\n",
       "      <td>thanks providing this excellent course.  these...</td>\n",
       "      <td>By 🐻 �</td>\n",
       "      <td>Aug 22, 2020</td>\n",
       "      <td>5</td>\n",
       "      <td>learning-how-to-learn</td>\n",
       "    </tr>\n",
       "    <tr>\n",
       "      <th>264422</th>\n",
       "      <td>thanks providing this excellent course.  these...</td>\n",
       "      <td>By 🐻 �</td>\n",
       "      <td>Aug 22, 2020</td>\n",
       "      <td>5</td>\n",
       "      <td>learning-how-to-learn</td>\n",
       "    </tr>\n",
       "  </tbody>\n",
       "</table>\n",
       "<p>934764 rows × 5 columns</p>\n",
       "</div>"
      ],
      "text/plain": [
       "                                                   reviews    reviewers  \\\n",
       "818713                     It was really great experience.  By \\t M N H   \n",
       "818738                     It was really great experience.  By \\t M N H   \n",
       "301798   This course is amazing. Python is so easy lang...  By \\t M R I   \n",
       "301773   This course is amazing. Python is so easy lang...  By \\t M R I   \n",
       "1127812  First of all, I am very happy to finish this c...  By \\t M S R   \n",
       "...                                                    ...          ...   \n",
       "1104702                   It was fun and useful\\nTHANK YOU  By �� � � �   \n",
       "1326649  I loved the way of learning and how this cours...  By ���� � �   \n",
       "1326624  I loved the way of learning and how this cours...  By ���� � �   \n",
       "264447   thanks providing this excellent course.  these...       By 🐻 �   \n",
       "264422   thanks providing this excellent course.  these...       By 🐻 �   \n",
       "\n",
       "         date_reviews  rating              course_id  \n",
       "818713   Sep 02, 2020       5    grammar-punctuation  \n",
       "818738   Sep 02, 2020       5    grammar-punctuation  \n",
       "301798   Sep 15, 2020       5            python-data  \n",
       "301773   Sep 15, 2020       5            python-data  \n",
       "1127812  Jul 16, 2020       5                 guitar  \n",
       "...               ...     ...                    ...  \n",
       "1104702  Jun 17, 2020       5        how-things-work  \n",
       "1326649  Jan 19, 2020       5   strategic-management  \n",
       "1326624  Jan 19, 2020       5   strategic-management  \n",
       "264447   Aug 22, 2020       5  learning-how-to-learn  \n",
       "264422   Aug 22, 2020       5  learning-how-to-learn  \n",
       "\n",
       "[934764 rows x 5 columns]"
      ]
     },
     "execution_count": 3,
     "metadata": {},
     "output_type": "execute_result"
    }
   ],
   "source": [
    "#lets see the duplicates\n",
    "coursera_reviews[coursera_reviews[['reviews', 'reviewers', 'date_reviews', 'course_id']].duplicated()].sort_values('reviewers')"
   ]
  },
  {
   "cell_type": "code",
   "execution_count": 4,
   "id": "fa44f87c",
   "metadata": {
    "scrolled": false
   },
   "outputs": [
    {
     "name": "stdout",
     "output_type": "stream",
     "text": [
      "(519947, 5)\n"
     ]
    }
   ],
   "source": [
    "#drop duplicates\n",
    "coursera_reviews.drop_duplicates(subset = ['reviews', 'reviewers', 'date_reviews', 'course_id', 'rating'], inplace = True)\n",
    "print(coursera_reviews.shape)"
   ]
  },
  {
   "cell_type": "code",
   "execution_count": 5,
   "id": "8e6c7498",
   "metadata": {
    "scrolled": false
   },
   "outputs": [
    {
     "data": {
      "text/plain": [
       "<Axes: ylabel='course_id'>"
      ]
     },
     "execution_count": 5,
     "metadata": {},
     "output_type": "execute_result"
    },
    {
     "data": {
      "image/png": "[encoded data removed]",
      "text/plain": [
       "<Figure size 640x480 with 1 Axes>"
      ]
     },
     "metadata": {},
     "output_type": "display_data"
    }
   ],
   "source": [
    "#add a review counts column so we know how many courses each user has reviewed\n",
    "reviewer_counts = coursera_reviews['reviewers'].value_counts().to_dict()\n",
    "coursera_reviews['reviewer_counts'] = coursera_reviews['reviewers'].apply(lambda x: reviewer_counts[x])\n",
    "\n",
    "#add a course review column so we know how many reviews the course has\n",
    "review_counts = coursera_reviews['course_id'].value_counts().to_dict()\n",
    "coursera_reviews['course_reviews'] = coursera_reviews['course_id'].apply(lambda x: review_counts[x])\n",
    "\n",
    "rank = coursera_reviews.groupby('course_id')[['course_reviews', 'rating']].mean().sort_values('course_reviews', ascending = False)\n",
    "# the excellent courses are those with many reviews (say 3000) and high average rating \n",
    "best_courses = rank[(rank['course_reviews'] > 3000) & (rank['rating']>4.5)]\n",
    "# to see the top 10 courses\n",
    "best_courses['rating'].sort_values()[:10].plot(kind = 'barh')"
   ]
  },
  {
   "cell_type": "code",
   "execution_count": 6,
   "id": "256adfa2",
   "metadata": {
    "scrolled": false
   },
   "outputs": [
    {
     "name": "stdout",
     "output_type": "stream",
     "text": [
      "                                               Review  Label\n",
      "Id                                                          \n",
      "0                                good and interesting      5\n",
      "1   This class is very helpful to me. Currently, I...      5\n",
      "2   like!Prof and TAs are helpful and the discussi...      5\n",
      "3   Easy to follow and includes a lot basic and im...      5\n",
      "4   Really nice teacher!I could got the point eazl...      4\n",
      "                                                       Review  Label\n",
      "CourseId                                                            \n",
      "2-speed-it                                             BOring      1\n",
      "2-speed-it                                            Bravo !      5\n",
      "2-speed-it                                           Very goo      5\n",
      "2-speed-it  Great course - I recommend it for all, especia...      5\n",
      "2-speed-it    One of the most useful course on IT Management!      5\n"
     ]
    }
   ],
   "source": [
    "#let's get more data to train the sentiment model on\n",
    "reviews_data = pd.read_csv('NLP Datasets/reviews.csv.zip', compression = 'zip', index_col = 0)\n",
    "print(reviews_data.head())\n",
    "\n",
    "reviews_data2 = pd.read_csv('NLP Datasets/reviews_by_course.csv.zip', compression = 'zip', index_col = 0)\n",
    "print(reviews_data2.head())"
   ]
  },
  {
   "cell_type": "code",
   "execution_count": 7,
   "id": "38653be6",
   "metadata": {
    "scrolled": true
   },
   "outputs": [
    {
     "name": "stdout",
     "output_type": "stream",
     "text": [
      "True\n"
     ]
    },
    {
     "data": {
      "text/html": [
       "<div>\n",
       "<style scoped>\n",
       "    .dataframe tbody tr th:only-of-type {\n",
       "        vertical-align: middle;\n",
       "    }\n",
       "\n",
       "    .dataframe tbody tr th {\n",
       "        vertical-align: top;\n",
       "    }\n",
       "\n",
       "    .dataframe thead th {\n",
       "        text-align: right;\n",
       "    }\n",
       "</style>\n",
       "<table border=\"1\" class=\"dataframe\">\n",
       "  <thead>\n",
       "    <tr style=\"text-align: right;\">\n",
       "      <th></th>\n",
       "      <th>Review</th>\n",
       "      <th>Label</th>\n",
       "    </tr>\n",
       "  </thead>\n",
       "  <tbody>\n",
       "    <tr>\n",
       "      <th>701350</th>\n",
       "      <td>Muy buenas lecciones</td>\n",
       "      <td>5</td>\n",
       "    </tr>\n",
       "    <tr>\n",
       "      <th>279326</th>\n",
       "      <td>Informative and Awesome</td>\n",
       "      <td>5</td>\n",
       "    </tr>\n",
       "    <tr>\n",
       "      <th>3623</th>\n",
       "      <td>Awesome course!</td>\n",
       "      <td>5</td>\n",
       "    </tr>\n",
       "    <tr>\n",
       "      <th>501862</th>\n",
       "      <td>would be better if there were more exercises.</td>\n",
       "      <td>4</td>\n",
       "    </tr>\n",
       "    <tr>\n",
       "      <th>269851</th>\n",
       "      <td>This course amazingly explains computer networ...</td>\n",
       "      <td>5</td>\n",
       "    </tr>\n",
       "    <tr>\n",
       "      <th>190465</th>\n",
       "      <td>Very informative, interesting articles and gre...</td>\n",
       "      <td>4</td>\n",
       "    </tr>\n",
       "    <tr>\n",
       "      <th>93348</th>\n",
       "      <td>It gives you the basic idea of R coding. Swirl...</td>\n",
       "      <td>4</td>\n",
       "    </tr>\n",
       "    <tr>\n",
       "      <th>664117</th>\n",
       "      <td>Overall,\\nit's a great introduction to program...</td>\n",
       "      <td>5</td>\n",
       "    </tr>\n",
       "    <tr>\n",
       "      <th>6778</th>\n",
       "      <td>Very fast paced overview of the computer hardw...</td>\n",
       "      <td>5</td>\n",
       "    </tr>\n",
       "    <tr>\n",
       "      <th>447325</th>\n",
       "      <td>It's very useful for my work and my family,I'm...</td>\n",
       "      <td>5</td>\n",
       "    </tr>\n",
       "  </tbody>\n",
       "</table>\n",
       "</div>"
      ],
      "text/plain": [
       "                                                   Review  Label\n",
       "701350                              Muy buenas lecciones       5\n",
       "279326                            Informative and Awesome      5\n",
       "3623                                      Awesome course!      5\n",
       "501862      would be better if there were more exercises.      4\n",
       "269851  This course amazingly explains computer networ...      5\n",
       "190465  Very informative, interesting articles and gre...      4\n",
       "93348   It gives you the basic idea of R coding. Swirl...      4\n",
       "664117  Overall,\\nit's a great introduction to program...      5\n",
       "6778    Very fast paced overview of the computer hardw...      5\n",
       "447325  It's very useful for my work and my family,I'm...      5"
      ]
     },
     "execution_count": 7,
     "metadata": {},
     "output_type": "execute_result"
    }
   ],
   "source": [
    "#to merge the datasets together\n",
    "coursera_reviews.rename({'reviews': 'Review', 'rating': 'Label'}, axis = 1, inplace= True)\n",
    "df = pd.concat([reviews_data, reviews_data2, coursera_reviews[['Review', 'Label']]], ignore_index = True)\n",
    "print(len(df) == (len(coursera_reviews) + len(reviews_data) + len(reviews_data2)))\n",
    "df.sample(10)"
   ]
  },
  {
   "cell_type": "code",
   "execution_count": 8,
   "id": "d08b4700",
   "metadata": {},
   "outputs": [
    {
     "data": {
      "text/plain": [
       "Positive\n",
       "1    0.96908\n",
       "0    0.03092\n",
       "Name: proportion, dtype: float64"
      ]
     },
     "execution_count": 8,
     "metadata": {},
     "output_type": "execute_result"
    }
   ],
   "source": [
    "#first let us create a column to denote positively rated or not\n",
    "df = df[df['Label'] != 3]\n",
    "df['Positive'] = np.where(df['Label']> 3, 1, 0)\n",
    "df.Positive.value_counts(normalize = True)"
   ]
  },
  {
   "cell_type": "code",
   "execution_count": 9,
   "id": "f6cf70cd",
   "metadata": {
    "scrolled": false
   },
   "outputs": [
    {
     "data": {
      "text/html": [
       "<div>\n",
       "<style scoped>\n",
       "    .dataframe tbody tr th:only-of-type {\n",
       "        vertical-align: middle;\n",
       "    }\n",
       "\n",
       "    .dataframe tbody tr th {\n",
       "        vertical-align: top;\n",
       "    }\n",
       "\n",
       "    .dataframe thead th {\n",
       "        text-align: right;\n",
       "    }\n",
       "</style>\n",
       "<table border=\"1\" class=\"dataframe\">\n",
       "  <thead>\n",
       "    <tr style=\"text-align: right;\">\n",
       "      <th></th>\n",
       "      <th>Review</th>\n",
       "      <th>Label</th>\n",
       "      <th>Positive</th>\n",
       "    </tr>\n",
       "  </thead>\n",
       "  <tbody>\n",
       "    <tr>\n",
       "      <th>743383</th>\n",
       "      <td>The worst course I've ever taken. The professo...</td>\n",
       "      <td>NaN</td>\n",
       "      <td>0.0</td>\n",
       "    </tr>\n",
       "    <tr>\n",
       "      <th>743384</th>\n",
       "      <td>I regret taking this course, I took it because...</td>\n",
       "      <td>NaN</td>\n",
       "      <td>0.0</td>\n",
       "    </tr>\n",
       "    <tr>\n",
       "      <th>743385</th>\n",
       "      <td>Unfortunately, I found this course to be meh. ...</td>\n",
       "      <td>NaN</td>\n",
       "      <td>0.0</td>\n",
       "    </tr>\n",
       "    <tr>\n",
       "      <th>743386</th>\n",
       "      <td>This course is effectively entirely based off ...</td>\n",
       "      <td>NaN</td>\n",
       "      <td>0.0</td>\n",
       "    </tr>\n",
       "    <tr>\n",
       "      <th>743387</th>\n",
       "      <td>Personally did not find Computational Biomecha...</td>\n",
       "      <td>NaN</td>\n",
       "      <td>0.0</td>\n",
       "    </tr>\n",
       "  </tbody>\n",
       "</table>\n",
       "</div>"
      ],
      "text/plain": [
       "                                                   Review  Label  Positive\n",
       "743383  The worst course I've ever taken. The professo...    NaN       0.0\n",
       "743384  I regret taking this course, I took it because...    NaN       0.0\n",
       "743385  Unfortunately, I found this course to be meh. ...    NaN       0.0\n",
       "743386  This course is effectively entirely based off ...    NaN       0.0\n",
       "743387  Personally did not find Computational Biomecha...    NaN       0.0"
      ]
     },
     "execution_count": 9,
     "metadata": {},
     "output_type": "execute_result"
    }
   ],
   "source": [
    "#since there is a lot of imbalance, lets add more negative reviews from another dataset\n",
    "reviews_data3 = pd.read_csv('NLP Datasets/course_data_clean.csv', index_col = 0)\n",
    "reviews_data3.rename({'reviews': 'Review', 'course_rating_int': 'Positive'}, axis = 1, inplace = True)\n",
    "reviews_data3 = reviews_data3[reviews_data3['Positive']==0][['Review', 'Positive']]\n",
    "df = pd.concat([df, reviews_data3], ignore_index = True)\n",
    "df.tail(5)"
   ]
  },
  {
   "cell_type": "code",
   "execution_count": 10,
   "id": "380938f2",
   "metadata": {},
   "outputs": [
    {
     "name": "stdout",
     "output_type": "stream",
     "text": [
      "9791\n"
     ]
    },
    {
     "data": {
      "text/html": [
       "<div>\n",
       "<style scoped>\n",
       "    .dataframe tbody tr th:only-of-type {\n",
       "        vertical-align: middle;\n",
       "    }\n",
       "\n",
       "    .dataframe tbody tr th {\n",
       "        vertical-align: top;\n",
       "    }\n",
       "\n",
       "    .dataframe thead th {\n",
       "        text-align: right;\n",
       "    }\n",
       "</style>\n",
       "<table border=\"1\" class=\"dataframe\">\n",
       "  <thead>\n",
       "    <tr style=\"text-align: right;\">\n",
       "      <th></th>\n",
       "      <th>Review</th>\n",
       "      <th>Label</th>\n",
       "      <th>Positive</th>\n",
       "    </tr>\n",
       "  </thead>\n",
       "  <tbody>\n",
       "    <tr>\n",
       "      <th>753174</th>\n",
       "      <td>I want to give it 3 1/2 starts - sometimes the...</td>\n",
       "      <td>3.0</td>\n",
       "      <td>0.0</td>\n",
       "    </tr>\n",
       "    <tr>\n",
       "      <th>753175</th>\n",
       "      <td>I loved the non-UK / American basis for the wr...</td>\n",
       "      <td>3.0</td>\n",
       "      <td>0.0</td>\n",
       "    </tr>\n",
       "    <tr>\n",
       "      <th>753176</th>\n",
       "      <td>It is perfect for beginners, but if youre an e...</td>\n",
       "      <td>3.0</td>\n",
       "      <td>0.0</td>\n",
       "    </tr>\n",
       "    <tr>\n",
       "      <th>753177</th>\n",
       "      <td>The course addresses quite precisely and pragm...</td>\n",
       "      <td>3.0</td>\n",
       "      <td>0.0</td>\n",
       "    </tr>\n",
       "    <tr>\n",
       "      <th>753178</th>\n",
       "      <td>For those interested in taking exams, these qu...</td>\n",
       "      <td>2.0</td>\n",
       "      <td>0.0</td>\n",
       "    </tr>\n",
       "  </tbody>\n",
       "</table>\n",
       "</div>"
      ],
      "text/plain": [
       "                                                   Review  Label  Positive\n",
       "753174  I want to give it 3 1/2 starts - sometimes the...    3.0       0.0\n",
       "753175  I loved the non-UK / American basis for the wr...    3.0       0.0\n",
       "753176  It is perfect for beginners, but if youre an e...    3.0       0.0\n",
       "753177  The course addresses quite precisely and pragm...    3.0       0.0\n",
       "753178  For those interested in taking exams, these qu...    2.0       0.0"
      ]
     },
     "execution_count": 10,
     "metadata": {},
     "output_type": "execute_result"
    }
   ],
   "source": [
    "reviews_data4 = pd.read_csv('NLP Datasets/reviews2.csv')\n",
    "reviews_data4 = reviews_data4[reviews_data4['label'] <= 3]\n",
    "reviews_data4.rename({'review': 'Review', 'label': 'Label', 'label.1': 'Positive'}, axis = 1, inplace = True)\n",
    "print(len(reviews_data4))\n",
    "df = pd.concat([df, reviews_data4[['Review', 'Label', 'Positive']]], ignore_index = True)\n",
    "df.tail(5)"
   ]
  },
  {
   "cell_type": "code",
   "execution_count": 11,
   "id": "4154cd4e",
   "metadata": {
    "scrolled": false
   },
   "outputs": [
    {
     "data": {
      "text/plain": [
       "Positive\n",
       "1.0    0.94731\n",
       "0.0    0.05269\n",
       "Name: proportion, dtype: float64"
      ]
     },
     "execution_count": 11,
     "metadata": {},
     "output_type": "execute_result"
    }
   ],
   "source": [
    "df.dropna(subset = 'Review', inplace = True)\n",
    "\n",
    "df.drop_duplicates(subset = 'Review', inplace = True)\n",
    "df.Positive.value_counts(normalize = True)"
   ]
  },
  {
   "cell_type": "markdown",
   "id": "ffd5e13f",
   "metadata": {},
   "source": [
    "The imbalance is seen to be very high as 95% of the data contains Positive reviews. This will be addressed."
   ]
  },
  {
   "cell_type": "code",
   "execution_count": 12,
   "id": "bdbf3bb6",
   "metadata": {},
   "outputs": [
    {
     "name": "stdout",
     "output_type": "stream",
     "text": [
      "<class 'pandas.core.frame.DataFrame'>\n",
      "Index: 531942 entries, 0 to 753177\n",
      "Data columns (total 3 columns):\n",
      " #   Column    Non-Null Count   Dtype  \n",
      "---  ------    --------------   -----  \n",
      " 0   Review    531942 non-null  object \n",
      " 1   Label     527192 non-null  float64\n",
      " 2   Positive  531942 non-null  float64\n",
      "dtypes: float64(2), object(1)\n",
      "memory usage: 16.2+ MB\n"
     ]
    }
   ],
   "source": [
    "dataset = df.copy() #to save the original highly imbalanced dataset\n",
    "df.info()"
   ]
  },
  {
   "cell_type": "code",
   "execution_count": 13,
   "id": "fef43b9e",
   "metadata": {},
   "outputs": [
    {
     "data": {
      "text/plain": [
       "Positive\n",
       "1.0    0.6\n",
       "0.0    0.4\n",
       "Name: proportion, dtype: float64"
      ]
     },
     "execution_count": 13,
     "metadata": {},
     "output_type": "execute_result"
    }
   ],
   "source": [
    "# in order to reduce the imbalance from 95/5 to 60/40\n",
    "df_neg = df[df.Positive == 0]\n",
    "df_pos = df[df.Positive == 1]\n",
    "df_pos = df_pos.sample(int(1.5 * len(df_neg)), random_state = 24)\n",
    "df = pd.concat([df_neg, df_pos], ignore_index = True)\n",
    "df.Positive.value_counts(normalize = True)"
   ]
  },
  {
   "cell_type": "markdown",
   "id": "8e681afe",
   "metadata": {},
   "source": [
    "## CREATING THE VECTORIZED DATASET\n"
   ]
  },
  {
   "cell_type": "code",
   "execution_count": 14,
   "id": "11583238",
   "metadata": {
    "scrolled": true
   },
   "outputs": [
    {
     "name": "stdout",
     "output_type": "stream",
     "text": [
      "i am not years old good\n"
     ]
    }
   ],
   "source": [
    "import re\n",
    "import nltk\n",
    "from nltk.corpus import stopwords\n",
    "\n",
    "stop = set(stopwords.words('english'))\n",
    "\n",
    "def text_preprocessing(data):\n",
    "    '''Removes punctuation, digits and underscores from text. Returns the tokenized version in lowercase'''\n",
    "    data = data.lower()\n",
    "    data = re.sub(r'[_\\',\\.]+', ' ', data)\n",
    "    data = re.sub(r'not\\s*(?:\\w+\\s*)?bad', 'good', data)  \n",
    "    data = re.sub('\\d+', ' ', data)\n",
    "    words = [word for word in nltk.word_tokenize(data)]\n",
    "    data = ' '.join(words)\n",
    "    return data\n",
    "\n",
    "print(text_preprocessing(\"__ I am not '12 years' _ old. not so bad\"))"
   ]
  },
  {
   "cell_type": "code",
   "execution_count": 15,
   "id": "543b8bde",
   "metadata": {
    "scrolled": false
   },
   "outputs": [
    {
     "data": {
      "text/plain": [
       "0        this course does not say anything about digiti...\n",
       "1        this course doesn t contain any new informatio...\n",
       "2        while there is some interesting content partic...\n",
       "3        i do not find very interesting this course too...\n",
       "4        a lot of speaking without any sense skip it at...\n",
       "                               ...                        \n",
       "70065    very interesting and well organized sometime i...\n",
       "70066    muy buen curso si bien no soy de área financie...\n",
       "70067    a real eye opener organized in a way that will...\n",
       "70068    very useful course and bring insight on how to...\n",
       "70069    very nice presentation of the tools plenty of ...\n",
       "Name: Review, Length: 70070, dtype: object"
      ]
     },
     "execution_count": 15,
     "metadata": {},
     "output_type": "execute_result"
    }
   ],
   "source": [
    "df['Review'] = df['Review'].apply(text_preprocessing)\n",
    "\n",
    "df.Review"
   ]
  },
  {
   "cell_type": "markdown",
   "id": "c16bd4ad",
   "metadata": {},
   "source": [
    "### COUNT VECTORIZER IMPLEMENTATION (BOW)"
   ]
  },
  {
   "cell_type": "code",
   "execution_count": 16,
   "id": "4e26d916",
   "metadata": {},
   "outputs": [],
   "source": [
    "#split into train and test\n",
    "from sklearn.model_selection import train_test_split\n",
    "X_train, X_test, y_train, y_test = train_test_split(df['Review'], df['Positive'], test_size = 0.1, random_state = 42)"
   ]
  },
  {
   "cell_type": "code",
   "execution_count": 17,
   "id": "8111edf7",
   "metadata": {},
   "outputs": [
    {
     "data": {
      "text/plain": [
       "99001"
      ]
     },
     "execution_count": 17,
     "metadata": {},
     "output_type": "execute_result"
    }
   ],
   "source": [
    "#Count Vectorizer\n",
    "from sklearn.feature_extraction.text import CountVectorizer\n",
    "vect = CountVectorizer(min_df = 5, ngram_range = (1,3)).fit(X_train)\n",
    "X_train_vectorized = vect.transform(X_train)\n",
    "X_test_vectorized = vect.transform(X_test)\n",
    "len(vect.get_feature_names_out())"
   ]
  },
  {
   "cell_type": "code",
   "execution_count": 18,
   "id": "76117528",
   "metadata": {},
   "outputs": [
    {
     "data": {
      "text/plain": [
       "array(['aarabi', 'aarabi is', 'aarabi is an', 'aarabi is listed', 'ab',\n",
       "       'abandon', 'abandoned', 'abandoned by', 'abandoned the',\n",
       "       'abandoned the course', 'abandoned this', 'abandoned this course',\n",
       "       'abandonment', 'abarca', 'abbreviations', 'abc', 'abierto',\n",
       "       'abilities', 'abilities and', 'ability', 'ability and',\n",
       "       'ability in', 'ability of', 'ability to', 'ability to convey',\n",
       "       'ability to learn', 'ability to make', 'ability to teach', 'able',\n",
       "       'able to', 'able to access', 'able to analyze', 'able to answer',\n",
       "       'able to apply', 'able to be', 'able to build', 'able to code',\n",
       "       'able to communicate', 'able to complete', 'able to connect',\n",
       "       'able to develop', 'able to discuss', 'able to do',\n",
       "       'able to download', 'able to explain', 'able to find',\n",
       "       'able to finish', 'able to follow', 'able to get', 'able to give'],\n",
       "      dtype=object)"
      ]
     },
     "execution_count": 18,
     "metadata": {},
     "output_type": "execute_result"
    }
   ],
   "source": [
    "np.array(vect.get_feature_names_out())[:50]"
   ]
  },
  {
   "cell_type": "markdown",
   "id": "ea49d458",
   "metadata": {},
   "source": [
    "## MODELLING"
   ]
  },
  {
   "cell_type": "code",
   "execution_count": 19,
   "id": "045a35f9",
   "metadata": {},
   "outputs": [],
   "source": [
    "from sklearn.linear_model import LogisticRegression\n",
    "from sklearn.naive_bayes import MultinomialNB, BernoulliNB\n",
    "import xgboost as xgb\n",
    "from sklearn.metrics import roc_auc_score, f1_score"
   ]
  },
  {
   "cell_type": "code",
   "execution_count": 20,
   "id": "eea8391e",
   "metadata": {},
   "outputs": [],
   "source": [
    "# create a function we can use to train models for convenient manual hyperparameter tuning\n",
    "def model_pred(model):\n",
    "    ''' trains a model on the vectorized dataset and returns the model performance on train and test set'''\n",
    "    metrics = {}\n",
    "    model.fit(X_train_vectorized, y_train)\n",
    "    pred = model.predict(X_test_vectorized)\n",
    "    metrics['Train F1-score'] = f1_score(y_train, model.predict(X_train_vectorized))\n",
    "    metrics['Test F1-score'] = f1_score(y_test, pred)\n",
    "    metrics['Test ROC-AUC'] = roc_auc_score(y_test, pred)\n",
    "    return metrics"
   ]
  },
  {
   "cell_type": "code",
   "execution_count": 21,
   "id": "6bacd9ee",
   "metadata": {
    "scrolled": false
   },
   "outputs": [
    {
     "data": {
      "text/plain": [
       "{'Train F1-score': 0.9571488403748495,\n",
       " 'Test F1-score': 0.9316378908072795,\n",
       " 'Test ROC-AUC': 0.9091482210763695}"
      ]
     },
     "execution_count": 21,
     "metadata": {},
     "output_type": "execute_result"
    }
   ],
   "source": [
    "lr_model = LogisticRegression(solver = 'saga', max_iter = 2000, C = 0.1)\n",
    "model_pred(lr_model)"
   ]
  },
  {
   "cell_type": "code",
   "execution_count": 22,
   "id": "0f6eb6fd",
   "metadata": {},
   "outputs": [
    {
     "data": {
      "text/plain": [
       "{'Train F1-score': 0.9331338211237779,\n",
       " 'Test F1-score': 0.9107991849671723,\n",
       " 'Test ROC-AUC': 0.8709226242922486}"
      ]
     },
     "execution_count": 22,
     "metadata": {},
     "output_type": "execute_result"
    }
   ],
   "source": [
    "xgb_model = xgb.XGBClassifier(n_estimators = 180, scale_pos_weight = 1.5, colsample_bytree = 0.7)\n",
    "model_pred(xgb_model)"
   ]
  },
  {
   "cell_type": "code",
   "execution_count": 23,
   "id": "484b66dd",
   "metadata": {},
   "outputs": [
    {
     "data": {
      "text/plain": [
       "{'Train F1-score': 0.906123063035956,\n",
       " 'Test F1-score': 0.8670664102274013,\n",
       " 'Test ROC-AUC': 0.8130559109742217}"
      ]
     },
     "execution_count": 23,
     "metadata": {},
     "output_type": "execute_result"
    }
   ],
   "source": [
    "nb_model = BernoulliNB(alpha = 1e-10, force_alpha = False)\n",
    "model_pred(nb_model)"
   ]
  },
  {
   "cell_type": "markdown",
   "id": "11d939d4",
   "metadata": {},
   "source": [
    "The Logistic Regression model performs slightly better than the XGBoost model. Also the logistic regression model can give a probabilistic output, so that is more suitable for this application."
   ]
  },
  {
   "cell_type": "code",
   "execution_count": 24,
   "id": "0dc9adb4",
   "metadata": {
    "scrolled": false
   },
   "outputs": [
    {
     "name": "stdout",
     "output_type": "stream",
     "text": [
      "Please enter your review for the course: I did not really enjoy it\n"
     ]
    },
    {
     "data": {
      "text/plain": [
       "array([0.31438143])"
      ]
     },
     "execution_count": 24,
     "metadata": {},
     "output_type": "execute_result"
    }
   ],
   "source": [
    "# let's test the rating\n",
    "user_input = input('Please enter your review for the course: ')\n",
    "lr_model.predict_proba(vect.transform([text_preprocessing(user_input)]))[:, 1]"
   ]
  },
  {
   "cell_type": "markdown",
   "id": "12ba8a7d",
   "metadata": {},
   "source": [
    "### DOC2VEC IMPLEMENTATION (Paragraph Vector)"
   ]
  },
  {
   "cell_type": "code",
   "execution_count": 25,
   "id": "a7be4463",
   "metadata": {},
   "outputs": [],
   "source": [
    "import gensim\n",
    "from gensim.models import Doc2Vec\n",
    "from tqdm import tqdm\n",
    "from nltk import word_tokenize\n",
    "from gensim.models.doc2vec import TaggedDocument\n",
    "\n",
    "train, test = train_test_split(df[['Review', 'Positive']], test_size = 0.1, random_state = 42)\n",
    "train_tagged = train.apply(lambda r: TaggedDocument(words = word_tokenize(r['Review']), tags = [r['Positive']]), axis = 1)\n",
    "test_tagged = test.apply(lambda r: TaggedDocument(words = word_tokenize(r['Review']), tags = [r['Positive']]), axis = 1)\n"
   ]
  },
  {
   "cell_type": "code",
   "execution_count": 26,
   "id": "b5a548be",
   "metadata": {},
   "outputs": [
    {
     "data": {
      "text/plain": [
       "[TaggedDocument(words=['a', 'great', 'introductory', 'course', 'to', 'ai', 'that', 'resolves', 'preconceived', 'notions', 'of', 'killer', 'robots', 'and', 'dystopian', 'futures', 'the', 'course', 'provides', 'insights', 'into', 'what', 'ai', 'is', 'and', 'equips', 'one', 'with', 'a', 'solid', 'understanding', 'of', 'the', 'mentality', 'required', 'to', 'pursue', 'ai', 'ideas'], tags=[1.0])]"
      ]
     },
     "execution_count": 26,
     "metadata": {},
     "output_type": "execute_result"
    }
   ],
   "source": [
    "list(train_tagged[:1].values)"
   ]
  },
  {
   "cell_type": "code",
   "execution_count": 27,
   "id": "65caa657",
   "metadata": {
    "scrolled": true
   },
   "outputs": [],
   "source": [
    "model_dbow = Doc2Vec(vector_size=20, negative=5, window = 2, min_count=5, workers = 4, epochs = 10)\n",
    "\n",
    "# building and training the doc2vec model vocab on the train set\n",
    "model_dbow.build_vocab(list(train_tagged.values))\n",
    "model_dbow.train(train_tagged.values, total_examples = model_dbow.corpus_count, epochs = model_dbow.epochs)"
   ]
  },
  {
   "cell_type": "code",
   "execution_count": 28,
   "id": "33d8aeee",
   "metadata": {
    "scrolled": true
   },
   "outputs": [],
   "source": [
    "# to create an array of paragraph vectored training and test examples\n",
    "train_doc2vec = [model_dbow.infer_vector(x.words) for x in train_tagged.values]\n",
    "test_doc2vec = [model_dbow.infer_vector(x.words) for x in test_tagged.values]\n",
    "y_train_doc2vec = train['Positive']\n",
    "y_test_doc2vec = test['Positive']"
   ]
  },
  {
   "cell_type": "code",
   "execution_count": 29,
   "id": "eac1132f",
   "metadata": {},
   "outputs": [],
   "source": [
    "# a function for training of models for convenient hyperparam tuning\n",
    "def model_pred_doc2vec(model):\n",
    "    '''Trains a model on the doc2vec train data and returns the model performance on test and train'''\n",
    "    metrics = {}\n",
    "    model.fit(train_doc2vec, y_train_doc2vec)\n",
    "    doc2vec_pred = model.predict(test_doc2vec)\n",
    "    metrics['Train F1-score'] = f1_score(y_train_doc2vec, model.predict(train_doc2vec))\n",
    "    metrics['Test F1-score'] = f1_score(y_test_doc2vec, doc2vec_pred)\n",
    "    metrics['Test ROC-AUC score'] = roc_auc_score(y_test_doc2vec, doc2vec_pred)\n",
    "    return metrics"
   ]
  },
  {
   "cell_type": "code",
   "execution_count": 30,
   "id": "61499c69",
   "metadata": {},
   "outputs": [
    {
     "data": {
      "text/plain": [
       "{'Train F1-score': 0.8661870142263407,\n",
       " 'Test F1-score': 0.8604807908335206,\n",
       " 'Test ROC-AUC score': 0.8011162274372994}"
      ]
     },
     "execution_count": 30,
     "metadata": {},
     "output_type": "execute_result"
    }
   ],
   "source": [
    "# training a Logistic Regression model on the created set\n",
    "lr_model2 = LogisticRegression(solver = 'liblinear')\n",
    "model_pred_doc2vec(lr_model2)"
   ]
  },
  {
   "cell_type": "code",
   "execution_count": 38,
   "id": "fff0c4b1",
   "metadata": {
    "scrolled": true
   },
   "outputs": [
    {
     "data": {
      "text/plain": [
       "{'Train F1-score': 0.8892053545998291,\n",
       " 'Test F1-score': 0.8589487691284099,\n",
       " 'Test ROC-AUC score': 0.7930552895236198}"
      ]
     },
     "execution_count": 38,
     "metadata": {},
     "output_type": "execute_result"
    }
   ],
   "source": [
    "xgb_model2 = xgb.XGBClassifier(n_estimators = 180, scale_pos_weight = 1.5, colsample_bytree = 0.7, max_depth = 4)\n",
    "model_pred_doc2vec(xgb_model2)"
   ]
  },
  {
   "cell_type": "code",
   "execution_count": 32,
   "id": "4bd0848b",
   "metadata": {},
   "outputs": [
    {
     "data": {
      "text/plain": [
       "{'Train F1-score': 0.7552722939012384,\n",
       " 'Test F1-score': 0.761430721148281,\n",
       " 'Test ROC-AUC score': 0.6871142217693293}"
      ]
     },
     "execution_count": 32,
     "metadata": {},
     "output_type": "execute_result"
    }
   ],
   "source": [
    "from sklearn.naive_bayes import BernoulliNB\n",
    "nb_model2 = BernoulliNB()\n",
    "model_pred_doc2vec(nb_model2)"
   ]
  },
  {
   "cell_type": "markdown",
   "id": "22700add",
   "metadata": {},
   "source": [
    "Again, the logistic regression model performs slightly better than the xgboost on test set. However, the performance of these models on predicting the sentiment from text is not as good as the same models with the count vectorizer implementation."
   ]
  },
  {
   "cell_type": "markdown",
   "id": "63bea08b",
   "metadata": {},
   "source": [
    "Overall, the Count vectorizer implementation performs better than the Paragraph vector implementation, although the doc2vec can be improved by increasing the vector size (number of vectors required to represent  paragraph/document), but this is too computation heavy. Hence, I will be using the count vec logistic regression model for this application since it is low computation power and it works fine."
   ]
  },
  {
   "cell_type": "code",
   "execution_count": 36,
   "id": "cbd7a129",
   "metadata": {
    "scrolled": true
   },
   "outputs": [
    {
     "name": "stdout",
     "output_type": "stream",
     "text": [
      "Tell us how you feel about the course: great course\n"
     ]
    },
    {
     "data": {
      "text/plain": [
       "array([0.85126806])"
      ]
     },
     "execution_count": 36,
     "metadata": {},
     "output_type": "execute_result"
    }
   ],
   "source": [
    "# to test the paragraph vector sentiment analysis model\n",
    "test_string = input('Tell us how you feel about the course: ')\n",
    "test_string_preprocessed = word_tokenize(text_preprocessing(test_string))\n",
    "#print(test_string_preprocessed)\n",
    "test_vector = model_dbow.infer_vector(test_string_preprocessed)\n",
    "lr_model2.predict_proba([test_vector])[:,1]"
   ]
  },
  {
   "cell_type": "markdown",
   "id": "9282ae2c",
   "metadata": {},
   "source": [
    "## MODEL CALIBRATION\n",
    "A model is said to be calibrated if for probabilistic output of r%, the event actually occurs r% of the time. In plain words, if the probability predicted is the ture probability of the event."
   ]
  },
  {
   "cell_type": "code",
   "execution_count": 39,
   "id": "9ce1a1ed",
   "metadata": {
    "scrolled": true
   },
   "outputs": [
    {
     "data": {
      "text/html": [
       "<style>#sk-container-id-1 {\n",
       "  /* Definition of color scheme common for light and dark mode */\n",
       "  --sklearn-color-text: black;\n",
       "  --sklearn-color-line: gray;\n",
       "  /* Definition of color scheme for unfitted estimators */\n",
       "  --sklearn-color-unfitted-level-0: #fff5e6;\n",
       "  --sklearn-color-unfitted-level-1: #f6e4d2;\n",
       "  --sklearn-color-unfitted-level-2: #ffe0b3;\n",
       "  --sklearn-color-unfitted-level-3: chocolate;\n",
       "  /* Definition of color scheme for fitted estimators */\n",
       "  --sklearn-color-fitted-level-0: #f0f8ff;\n",
       "  --sklearn-color-fitted-level-1: #d4ebff;\n",
       "  --sklearn-color-fitted-level-2: #b3dbfd;\n",
       "  --sklearn-color-fitted-level-3: cornflowerblue;\n",
       "\n",
       "  /* Specific color for light theme */\n",
       "  --sklearn-color-text-on-default-background: var(--sg-text-color, var(--theme-code-foreground, var(--jp-content-font-color1, black)));\n",
       "  --sklearn-color-background: var(--sg-background-color, var(--theme-background, var(--jp-layout-color0, white)));\n",
       "  --sklearn-color-border-box: var(--sg-text-color, var(--theme-code-foreground, var(--jp-content-font-color1, black)));\n",
       "  --sklearn-color-icon: #696969;\n",
       "\n",
       "  @media (prefers-color-scheme: dark) {\n",
       "    /* Redefinition of color scheme for dark theme */\n",
       "    --sklearn-color-text-on-default-background: var(--sg-text-color, var(--theme-code-foreground, var(--jp-content-font-color1, white)));\n",
       "    --sklearn-color-background: var(--sg-background-color, var(--theme-background, var(--jp-layout-color0, #111)));\n",
       "    --sklearn-color-border-box: var(--sg-text-color, var(--theme-code-foreground, var(--jp-content-font-color1, white)));\n",
       "    --sklearn-color-icon: #878787;\n",
       "  }\n",
       "}\n",
       "\n",
       "#sk-container-id-1 {\n",
       "  color: var(--sklearn-color-text);\n",
       "}\n",
       "\n",
       "#sk-container-id-1 pre {\n",
       "  padding: 0;\n",
       "}\n",
       "\n",
       "#sk-container-id-1 input.sk-hidden--visually {\n",
       "  border: 0;\n",
       "  clip: rect(1px 1px 1px 1px);\n",
       "  clip: rect(1px, 1px, 1px, 1px);\n",
       "  height: 1px;\n",
       "  margin: -1px;\n",
       "  overflow: hidden;\n",
       "  padding: 0;\n",
       "  position: absolute;\n",
       "  width: 1px;\n",
       "}\n",
       "\n",
       "#sk-container-id-1 div.sk-dashed-wrapped {\n",
       "  border: 1px dashed var(--sklearn-color-line);\n",
       "  margin: 0 0.4em 0.5em 0.4em;\n",
       "  box-sizing: border-box;\n",
       "  padding-bottom: 0.4em;\n",
       "  background-color: var(--sklearn-color-background);\n",
       "}\n",
       "\n",
       "#sk-container-id-1 div.sk-container {\n",
       "  /* jupyter's `normalize.less` sets `[hidden] { display: none; }`\n",
       "     but bootstrap.min.css set `[hidden] { display: none !important; }`\n",
       "     so we also need the `!important` here to be able to override the\n",
       "     default hidden behavior on the sphinx rendered scikit-learn.org.\n",
       "     See: https://github.com/scikit-learn/scikit-learn/issues/21755 */\n",
       "  display: inline-block !important;\n",
       "  position: relative;\n",
       "}\n",
       "\n",
       "#sk-container-id-1 div.sk-text-repr-fallback {\n",
       "  display: none;\n",
       "}\n",
       "\n",
       "div.sk-parallel-item,\n",
       "div.sk-serial,\n",
       "div.sk-item {\n",
       "  /* draw centered vertical line to link estimators */\n",
       "  background-image: linear-gradient(var(--sklearn-color-text-on-default-background), var(--sklearn-color-text-on-default-background));\n",
       "  background-size: 2px 100%;\n",
       "  background-repeat: no-repeat;\n",
       "  background-position: center center;\n",
       "}\n",
       "\n",
       "/* Parallel-specific style estimator block */\n",
       "\n",
       "#sk-container-id-1 div.sk-parallel-item::after {\n",
       "  content: \"\";\n",
       "  width: 100%;\n",
       "  border-bottom: 2px solid var(--sklearn-color-text-on-default-background);\n",
       "  flex-grow: 1;\n",
       "}\n",
       "\n",
       "#sk-container-id-1 div.sk-parallel {\n",
       "  display: flex;\n",
       "  align-items: stretch;\n",
       "  justify-content: center;\n",
       "  background-color: var(--sklearn-color-background);\n",
       "  position: relative;\n",
       "}\n",
       "\n",
       "#sk-container-id-1 div.sk-parallel-item {\n",
       "  display: flex;\n",
       "  flex-direction: column;\n",
       "}\n",
       "\n",
       "#sk-container-id-1 div.sk-parallel-item:first-child::after {\n",
       "  align-self: flex-end;\n",
       "  width: 50%;\n",
       "}\n",
       "\n",
       "#sk-container-id-1 div.sk-parallel-item:last-child::after {\n",
       "  align-self: flex-start;\n",
       "  width: 50%;\n",
       "}\n",
       "\n",
       "#sk-container-id-1 div.sk-parallel-item:only-child::after {\n",
       "  width: 0;\n",
       "}\n",
       "\n",
       "/* Serial-specific style estimator block */\n",
       "\n",
       "#sk-container-id-1 div.sk-serial {\n",
       "  display: flex;\n",
       "  flex-direction: column;\n",
       "  align-items: center;\n",
       "  background-color: var(--sklearn-color-background);\n",
       "  padding-right: 1em;\n",
       "  padding-left: 1em;\n",
       "}\n",
       "\n",
       "\n",
       "/* Toggleable style: style used for estimator/Pipeline/ColumnTransformer box that is\n",
       "clickable and can be expanded/collapsed.\n",
       "- Pipeline and ColumnTransformer use this feature and define the default style\n",
       "- Estimators will overwrite some part of the style using the `sk-estimator` class\n",
       "*/\n",
       "\n",
       "/* Pipeline and ColumnTransformer style (default) */\n",
       "\n",
       "#sk-container-id-1 div.sk-toggleable {\n",
       "  /* Default theme specific background. It is overwritten whether we have a\n",
       "  specific estimator or a Pipeline/ColumnTransformer */\n",
       "  background-color: var(--sklearn-color-background);\n",
       "}\n",
       "\n",
       "/* Toggleable label */\n",
       "#sk-container-id-1 label.sk-toggleable__label {\n",
       "  cursor: pointer;\n",
       "  display: block;\n",
       "  width: 100%;\n",
       "  margin-bottom: 0;\n",
       "  padding: 0.5em;\n",
       "  box-sizing: border-box;\n",
       "  text-align: center;\n",
       "}\n",
       "\n",
       "#sk-container-id-1 label.sk-toggleable__label-arrow:before {\n",
       "  /* Arrow on the left of the label */\n",
       "  content: \"▸\";\n",
       "  float: left;\n",
       "  margin-right: 0.25em;\n",
       "  color: var(--sklearn-color-icon);\n",
       "}\n",
       "\n",
       "#sk-container-id-1 label.sk-toggleable__label-arrow:hover:before {\n",
       "  color: var(--sklearn-color-text);\n",
       "}\n",
       "\n",
       "/* Toggleable content - dropdown */\n",
       "\n",
       "#sk-container-id-1 div.sk-toggleable__content {\n",
       "  max-height: 0;\n",
       "  max-width: 0;\n",
       "  overflow: hidden;\n",
       "  text-align: left;\n",
       "  /* unfitted */\n",
       "  background-color: var(--sklearn-color-unfitted-level-0);\n",
       "}\n",
       "\n",
       "#sk-container-id-1 div.sk-toggleable__content.fitted {\n",
       "  /* fitted */\n",
       "  background-color: var(--sklearn-color-fitted-level-0);\n",
       "}\n",
       "\n",
       "#sk-container-id-1 div.sk-toggleable__content pre {\n",
       "  margin: 0.2em;\n",
       "  border-radius: 0.25em;\n",
       "  color: var(--sklearn-color-text);\n",
       "  /* unfitted */\n",
       "  background-color: var(--sklearn-color-unfitted-level-0);\n",
       "}\n",
       "\n",
       "#sk-container-id-1 div.sk-toggleable__content.fitted pre {\n",
       "  /* unfitted */\n",
       "  background-color: var(--sklearn-color-fitted-level-0);\n",
       "}\n",
       "\n",
       "#sk-container-id-1 input.sk-toggleable__control:checked~div.sk-toggleable__content {\n",
       "  /* Expand drop-down */\n",
       "  max-height: 200px;\n",
       "  max-width: 100%;\n",
       "  overflow: auto;\n",
       "}\n",
       "\n",
       "#sk-container-id-1 input.sk-toggleable__control:checked~label.sk-toggleable__label-arrow:before {\n",
       "  content: \"▾\";\n",
       "}\n",
       "\n",
       "/* Pipeline/ColumnTransformer-specific style */\n",
       "\n",
       "#sk-container-id-1 div.sk-label input.sk-toggleable__control:checked~label.sk-toggleable__label {\n",
       "  color: var(--sklearn-color-text);\n",
       "  background-color: var(--sklearn-color-unfitted-level-2);\n",
       "}\n",
       "\n",
       "#sk-container-id-1 div.sk-label.fitted input.sk-toggleable__control:checked~label.sk-toggleable__label {\n",
       "  background-color: var(--sklearn-color-fitted-level-2);\n",
       "}\n",
       "\n",
       "/* Estimator-specific style */\n",
       "\n",
       "/* Colorize estimator box */\n",
       "#sk-container-id-1 div.sk-estimator input.sk-toggleable__control:checked~label.sk-toggleable__label {\n",
       "  /* unfitted */\n",
       "  background-color: var(--sklearn-color-unfitted-level-2);\n",
       "}\n",
       "\n",
       "#sk-container-id-1 div.sk-estimator.fitted input.sk-toggleable__control:checked~label.sk-toggleable__label {\n",
       "  /* fitted */\n",
       "  background-color: var(--sklearn-color-fitted-level-2);\n",
       "}\n",
       "\n",
       "#sk-container-id-1 div.sk-label label.sk-toggleable__label,\n",
       "#sk-container-id-1 div.sk-label label {\n",
       "  /* The background is the default theme color */\n",
       "  color: var(--sklearn-color-text-on-default-background);\n",
       "}\n",
       "\n",
       "/* On hover, darken the color of the background */\n",
       "#sk-container-id-1 div.sk-label:hover label.sk-toggleable__label {\n",
       "  color: var(--sklearn-color-text);\n",
       "  background-color: var(--sklearn-color-unfitted-level-2);\n",
       "}\n",
       "\n",
       "/* Label box, darken color on hover, fitted */\n",
       "#sk-container-id-1 div.sk-label.fitted:hover label.sk-toggleable__label.fitted {\n",
       "  color: var(--sklearn-color-text);\n",
       "  background-color: var(--sklearn-color-fitted-level-2);\n",
       "}\n",
       "\n",
       "/* Estimator label */\n",
       "\n",
       "#sk-container-id-1 div.sk-label label {\n",
       "  font-family: monospace;\n",
       "  font-weight: bold;\n",
       "  display: inline-block;\n",
       "  line-height: 1.2em;\n",
       "}\n",
       "\n",
       "#sk-container-id-1 div.sk-label-container {\n",
       "  text-align: center;\n",
       "}\n",
       "\n",
       "/* Estimator-specific */\n",
       "#sk-container-id-1 div.sk-estimator {\n",
       "  font-family: monospace;\n",
       "  border: 1px dotted var(--sklearn-color-border-box);\n",
       "  border-radius: 0.25em;\n",
       "  box-sizing: border-box;\n",
       "  margin-bottom: 0.5em;\n",
       "  /* unfitted */\n",
       "  background-color: var(--sklearn-color-unfitted-level-0);\n",
       "}\n",
       "\n",
       "#sk-container-id-1 div.sk-estimator.fitted {\n",
       "  /* fitted */\n",
       "  background-color: var(--sklearn-color-fitted-level-0);\n",
       "}\n",
       "\n",
       "/* on hover */\n",
       "#sk-container-id-1 div.sk-estimator:hover {\n",
       "  /* unfitted */\n",
       "  background-color: var(--sklearn-color-unfitted-level-2);\n",
       "}\n",
       "\n",
       "#sk-container-id-1 div.sk-estimator.fitted:hover {\n",
       "  /* fitted */\n",
       "  background-color: var(--sklearn-color-fitted-level-2);\n",
       "}\n",
       "\n",
       "/* Specification for estimator info (e.g. \"i\" and \"?\") */\n",
       "\n",
       "/* Common style for \"i\" and \"?\" */\n",
       "\n",
       ".sk-estimator-doc-link,\n",
       "a:link.sk-estimator-doc-link,\n",
       "a:visited.sk-estimator-doc-link {\n",
       "  float: right;\n",
       "  font-size: smaller;\n",
       "  line-height: 1em;\n",
       "  font-family: monospace;\n",
       "  background-color: var(--sklearn-color-background);\n",
       "  border-radius: 1em;\n",
       "  height: 1em;\n",
       "  width: 1em;\n",
       "  text-decoration: none !important;\n",
       "  margin-left: 1ex;\n",
       "  /* unfitted */\n",
       "  border: var(--sklearn-color-unfitted-level-1) 1pt solid;\n",
       "  color: var(--sklearn-color-unfitted-level-1);\n",
       "}\n",
       "\n",
       ".sk-estimator-doc-link.fitted,\n",
       "a:link.sk-estimator-doc-link.fitted,\n",
       "a:visited.sk-estimator-doc-link.fitted {\n",
       "  /* fitted */\n",
       "  border: var(--sklearn-color-fitted-level-1) 1pt solid;\n",
       "  color: var(--sklearn-color-fitted-level-1);\n",
       "}\n",
       "\n",
       "/* On hover */\n",
       "div.sk-estimator:hover .sk-estimator-doc-link:hover,\n",
       ".sk-estimator-doc-link:hover,\n",
       "div.sk-label-container:hover .sk-estimator-doc-link:hover,\n",
       ".sk-estimator-doc-link:hover {\n",
       "  /* unfitted */\n",
       "  background-color: var(--sklearn-color-unfitted-level-3);\n",
       "  color: var(--sklearn-color-background);\n",
       "  text-decoration: none;\n",
       "}\n",
       "\n",
       "div.sk-estimator.fitted:hover .sk-estimator-doc-link.fitted:hover,\n",
       ".sk-estimator-doc-link.fitted:hover,\n",
       "div.sk-label-container:hover .sk-estimator-doc-link.fitted:hover,\n",
       ".sk-estimator-doc-link.fitted:hover {\n",
       "  /* fitted */\n",
       "  background-color: var(--sklearn-color-fitted-level-3);\n",
       "  color: var(--sklearn-color-background);\n",
       "  text-decoration: none;\n",
       "}\n",
       "\n",
       "/* Span, style for the box shown on hovering the info icon */\n",
       ".sk-estimator-doc-link span {\n",
       "  display: none;\n",
       "  z-index: 9999;\n",
       "  position: relative;\n",
       "  font-weight: normal;\n",
       "  right: .2ex;\n",
       "  padding: .5ex;\n",
       "  margin: .5ex;\n",
       "  width: min-content;\n",
       "  min-width: 20ex;\n",
       "  max-width: 50ex;\n",
       "  color: var(--sklearn-color-text);\n",
       "  box-shadow: 2pt 2pt 4pt #999;\n",
       "  /* unfitted */\n",
       "  background: var(--sklearn-color-unfitted-level-0);\n",
       "  border: .5pt solid var(--sklearn-color-unfitted-level-3);\n",
       "}\n",
       "\n",
       ".sk-estimator-doc-link.fitted span {\n",
       "  /* fitted */\n",
       "  background: var(--sklearn-color-fitted-level-0);\n",
       "  border: var(--sklearn-color-fitted-level-3);\n",
       "}\n",
       "\n",
       ".sk-estimator-doc-link:hover span {\n",
       "  display: block;\n",
       "}\n",
       "\n",
       "/* \"?\"-specific style due to the `<a>` HTML tag */\n",
       "\n",
       "#sk-container-id-1 a.estimator_doc_link {\n",
       "  float: right;\n",
       "  font-size: 1rem;\n",
       "  line-height: 1em;\n",
       "  font-family: monospace;\n",
       "  background-color: var(--sklearn-color-background);\n",
       "  border-radius: 1rem;\n",
       "  height: 1rem;\n",
       "  width: 1rem;\n",
       "  text-decoration: none;\n",
       "  /* unfitted */\n",
       "  color: var(--sklearn-color-unfitted-level-1);\n",
       "  border: var(--sklearn-color-unfitted-level-1) 1pt solid;\n",
       "}\n",
       "\n",
       "#sk-container-id-1 a.estimator_doc_link.fitted {\n",
       "  /* fitted */\n",
       "  border: var(--sklearn-color-fitted-level-1) 1pt solid;\n",
       "  color: var(--sklearn-color-fitted-level-1);\n",
       "}\n",
       "\n",
       "/* On hover */\n",
       "#sk-container-id-1 a.estimator_doc_link:hover {\n",
       "  /* unfitted */\n",
       "  background-color: var(--sklearn-color-unfitted-level-3);\n",
       "  color: var(--sklearn-color-background);\n",
       "  text-decoration: none;\n",
       "}\n",
       "\n",
       "#sk-container-id-1 a.estimator_doc_link.fitted:hover {\n",
       "  /* fitted */\n",
       "  background-color: var(--sklearn-color-fitted-level-3);\n",
       "}\n",
       "</style><div id=\"sk-container-id-1\" class=\"sk-top-container\"><div class=\"sk-text-repr-fallback\"><pre>CalibratedClassifierCV(cv=3,\n",
       "                       estimator=LogisticRegression(C=0.1, max_iter=2000,\n",
       "                                                    solver=&#x27;saga&#x27;),\n",
       "                       n_jobs=-1)</pre><b>In a Jupyter environment, please rerun this cell to show the HTML representation or trust the notebook. <br />On GitHub, the HTML representation is unable to render, please try loading this page with nbviewer.org.</b></div><div class=\"sk-container\" hidden><div class=\"sk-item sk-dashed-wrapped\"><div class=\"sk-label-container\"><div class=\"sk-label fitted sk-toggleable\"><input class=\"sk-toggleable__control sk-hidden--visually\" id=\"sk-estimator-id-1\" type=\"checkbox\" ><label for=\"sk-estimator-id-1\" class=\"sk-toggleable__label fitted sk-toggleable__label-arrow fitted\">&nbsp;&nbsp;CalibratedClassifierCV<a class=\"sk-estimator-doc-link fitted\" rel=\"noreferrer\" target=\"_blank\" href=\"https://scikit-learn.org/1.4/modules/generated/sklearn.calibration.CalibratedClassifierCV.html\">?<span>Documentation for CalibratedClassifierCV</span></a><span class=\"sk-estimator-doc-link fitted\">i<span>Fitted</span></span></label><div class=\"sk-toggleable__content fitted\"><pre>CalibratedClassifierCV(cv=3,\n",
       "                       estimator=LogisticRegression(C=0.1, max_iter=2000,\n",
       "                                                    solver=&#x27;saga&#x27;),\n",
       "                       n_jobs=-1)</pre></div> </div></div><div class=\"sk-parallel\"><div class=\"sk-parallel-item\"><div class=\"sk-item\"><div class=\"sk-label-container\"><div class=\"sk-label fitted sk-toggleable\"><input class=\"sk-toggleable__control sk-hidden--visually\" id=\"sk-estimator-id-2\" type=\"checkbox\" ><label for=\"sk-estimator-id-2\" class=\"sk-toggleable__label fitted sk-toggleable__label-arrow fitted\">estimator: LogisticRegression</label><div class=\"sk-toggleable__content fitted\"><pre>LogisticRegression(C=0.1, max_iter=2000, solver=&#x27;saga&#x27;)</pre></div> </div></div><div class=\"sk-serial\"><div class=\"sk-item\"><div class=\"sk-estimator fitted sk-toggleable\"><input class=\"sk-toggleable__control sk-hidden--visually\" id=\"sk-estimator-id-3\" type=\"checkbox\" ><label for=\"sk-estimator-id-3\" class=\"sk-toggleable__label fitted sk-toggleable__label-arrow fitted\">&nbsp;LogisticRegression<a class=\"sk-estimator-doc-link fitted\" rel=\"noreferrer\" target=\"_blank\" href=\"https://scikit-learn.org/1.4/modules/generated/sklearn.linear_model.LogisticRegression.html\">?<span>Documentation for LogisticRegression</span></a></label><div class=\"sk-toggleable__content fitted\"><pre>LogisticRegression(C=0.1, max_iter=2000, solver=&#x27;saga&#x27;)</pre></div> </div></div></div></div></div></div></div></div></div>"
      ],
      "text/plain": [
       "CalibratedClassifierCV(cv=3,\n",
       "                       estimator=LogisticRegression(C=0.1, max_iter=2000,\n",
       "                                                    solver='saga'),\n",
       "                       n_jobs=-1)"
      ]
     },
     "execution_count": 39,
     "metadata": {},
     "output_type": "execute_result"
    }
   ],
   "source": [
    "# to calibrate the CountVec log reg model \n",
    "from sklearn.calibration import CalibratedClassifierCV, CalibrationDisplay\n",
    "calibrated_lr_model = CalibratedClassifierCV(estimator = lr_model, n_jobs = -1, cv = 3)\n",
    "calibrated_lr_model.fit(X_test_vectorized, y_test)"
   ]
  },
  {
   "cell_type": "code",
   "execution_count": 40,
   "id": "710a26a2",
   "metadata": {},
   "outputs": [],
   "source": [
    "calib_pred = calibrated_lr_model.predict_proba(X_test_vectorized)[:,1]"
   ]
  },
  {
   "cell_type": "code",
   "execution_count": 41,
   "id": "2135a137",
   "metadata": {},
   "outputs": [
    {
     "data": {
      "image/png": "[encoded data removed]",
      "text/plain": [
       "<Figure size 640x480 with 1 Axes>"
      ]
     },
     "metadata": {},
     "output_type": "display_data"
    }
   ],
   "source": [
    "CalibrationDisplay.from_predictions(y_test, lr_model.predict_proba(X_test_vectorized)[:,1])\n",
    "plt.show()"
   ]
  },
  {
   "cell_type": "code",
   "execution_count": 42,
   "id": "c0d3c572",
   "metadata": {},
   "outputs": [
    {
     "data": {
      "image/png": "[encoded data removed]",
      "text/plain": [
       "<Figure size 640x480 with 1 Axes>"
      ]
     },
     "metadata": {},
     "output_type": "display_data"
    }
   ],
   "source": [
    "CalibrationDisplay.from_predictions(y_test, calib_pred)\n",
    "plt.show()"
   ]
  },
  {
   "cell_type": "markdown",
   "id": "dc0db599",
   "metadata": {},
   "source": [
    "The logistic regression model is alredy well calibrated as we see above and the sklearn calibratedcv is actually making it less calibrated, so we'll stick with the original log reg model."
   ]
  }
 ],
 "metadata": {
  "kernelspec": {
   "display_name": "Python 3 (ipykernel)",
   "language": "python",
   "name": "python3"
  },
  "language_info": {
   "codemirror_mode": {
    "name": "ipython",
    "version": 3
   },
   "file_extension": ".py",
   "mimetype": "text/x-python",
   "name": "python",
   "nbconvert_exporter": "python",
   "pygments_lexer": "ipython3",
   "version": "3.11.4"
  }
 },
 "nbformat": 4,
 "nbformat_minor": 5
}
